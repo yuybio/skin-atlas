version https://git-lfs.github.com/spec/v1
oid sha256:87834d3471e575ce33b8f18b865ff974b01aaf444a24170e7e97e366d9a79481
size 956627
