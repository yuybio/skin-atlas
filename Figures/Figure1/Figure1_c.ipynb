version https://git-lfs.github.com/spec/v1
oid sha256:15b2b1de550e87d7a555c86b919013c41b3b424e7eb8a623fdf26bfe1049d825
size 11422781
