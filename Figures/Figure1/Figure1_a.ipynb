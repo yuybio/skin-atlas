version https://git-lfs.github.com/spec/v1
oid sha256:75853945e0389831f55200ea1f731fc27df61e324ad194068c463c5988b5a8a6
size 39283631
