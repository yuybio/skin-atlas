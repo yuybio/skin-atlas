version https://git-lfs.github.com/spec/v1
oid sha256:1caf999a8cdc013a34b38a3f1397bc830c09d75c0637a114d7a21d682915fb58
size 23875163
